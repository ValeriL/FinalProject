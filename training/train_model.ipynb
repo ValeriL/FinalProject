{
 "cells": [
  {
   "cell_type": "code",
   "execution_count": 10,
   "metadata": {},
   "outputs": [],
   "source": [
    "import string\n",
    "import re\n",
    "import pandas as pd\n",
    "import collections\n",
    "from nltk.corpus import wordnet\n",
    "from nltk.corpus import stopwords\n",
    "from nltk.stem import WordNetLemmatizer\n",
    "from nltk.tokenize import WhitespaceTokenizer\n",
    "from nltk import pos_tag\n",
    "from sklearn.feature_extraction.text import TfidfVectorizer\n",
    "from sklearn.model_selection import train_test_split\n",
    "from sklearn.linear_model import SGDClassifier\n",
    "from sklearn.metrics import classification_report, confusion_matrix, accuracy_score\n",
    "import matplotlib.pyplot as pl\n",
    "from wordcloud import WordCloud\n",
    "import pickle\n",
    "from collections import Counter"
   ]
  },
  {
   "cell_type": "code",
   "execution_count": 11,
   "metadata": {},
   "outputs": [
    {
     "name": "stdout",
     "output_type": "stream",
     "text": [
      "Review with POSITIVE sentiment:\n",
      "\n",
      "One of the other reviewers has mentioned that after watching just 1 Oz episode you'll be hooked. They are right, as this is exactly what happened with me.<br /><br />The first thing that struck me about Oz was its brutality and unflinching scenes of violence, which set in right from the word GO. Trust me, this is not a show for the faint hearted or timid. This show pulls no punches with regards to drugs, sex or violence. Its is hardcore, in the classic use of the word.<br /><br />It is called OZ as that is the nickname given to the Oswald Maximum Security State Penitentary. It focuses mainly on Emerald City, an experimental section of the prison where all the cells have glass fronts and face inwards, so privacy is not high on the agenda. Em City is home to many..Aryans, Muslims, gangstas, Latinos, Christians, Italians, Irish and more....so scuffles, death stares, dodgy dealings and shady agreements are never far away.<br /><br />I would say the main appeal of the show is due to the fact that it goes where other shows wouldn't dare. Forget pretty pictures painted for mainstream audiences, forget charm, forget romance...OZ doesn't mess around. The first episode I ever saw struck me as so nasty it was surreal, I couldn't say I was ready for it, but as I watched more, I developed a taste for Oz, and got accustomed to the high levels of graphic violence. Not just violence, but injustice (crooked guards who'll be sold out for a nickel, inmates who'll kill on order and get away with it, well mannered, middle class inmates being turned into prison bitches due to their lack of street skills or prison experience) Watching Oz, you may become comfortable with what is uncomfortable viewing....thats if you can get in touch with your darker side.\n",
      "\n",
      "Review with POSITIVE sentiment:\n",
      "\n",
      "A wonderful little production. <br /><br />The filming technique is very unassuming- very old-time-BBC fashion and gives a comforting, and sometimes discomforting, sense of realism to the entire piece. <br /><br />The actors are extremely well chosen- Michael Sheen not only \"has got all the polari\" but he has all the voices down pat too! You can truly see the seamless editing guided by the references to Williams' diary entries, not only is it well worth the watching but it is a terrificly written and performed piece. A masterful production about one of the great master's of comedy and his life. <br /><br />The realism really comes home with the little things: the fantasy of the guard which, rather than use the traditional 'dream' techniques remains solid then disappears. It plays on our knowledge and our senses, particularly with the scenes concerning Orton and Halliwell and the sets (particularly of their flat with Halliwell's murals decorating every surface) are terribly well done.\n",
      "\n",
      "Review with POSITIVE sentiment:\n",
      "\n",
      "I thought this was a wonderful way to spend time on a too hot summer weekend, sitting in the air conditioned theater and watching a light-hearted comedy. The plot is simplistic, but the dialogue is witty and the characters are likable (even the well bread suspected serial killer). While some may be disappointed when they realize this is not Match Point 2: Risk Addiction, I thought it was proof that Woody Allen is still fully in control of the style many of us have grown to love.<br /><br />This was the most I'd laughed at one of Woody's comedies in years (dare I say a decade?). While I've never been impressed with Scarlet Johanson, in this she managed to tone down her \"sexy\" image and jumped right into a average, but spirited young woman.<br /><br />This may not be the crown jewel of his career, but it was wittier than \"Devil Wears Prada\" and more interesting than \"Superman\" a great comedy to go see with friends.\n",
      "\n",
      "Review with NEGATIVE sentiment:\n",
      "\n",
      "Basically there's a family where a little boy (Jake) thinks there's a zombie in his closet & his parents are fighting all the time.<br /><br />This movie is slower than a soap opera... and suddenly, Jake decides to become Rambo and kill the zombie.<br /><br />OK, first of all when you're going to make a film you must Decide if its a thriller or a drama! As a drama the movie is watchable. Parents are divorcing & arguing like in real life. And then we have Jake with his closet which totally ruins all the film! I expected to see a BOOGEYMAN similar movie, and instead i watched a drama with some meaningless thriller spots.<br /><br />3 out of 10 just for the well playing parents & descent dialogs. As for the shots with Jake: just ignore them.\n",
      "\n",
      "Review with POSITIVE sentiment:\n",
      "\n",
      "Petter Mattei's \"Love in the Time of Money\" is a visually stunning film to watch. Mr. Mattei offers us a vivid portrait about human relations. This is a movie that seems to be telling us what money, power and success do to people in the different situations we encounter. <br /><br />This being a variation on the Arthur Schnitzler's play about the same theme, the director transfers the action to the present time New York where all these different characters meet and connect. Each one is connected in one way, or another to the next person, but no one seems to know the previous point of contact. Stylishly, the film has a sophisticated luxurious look. We are taken to see how these people live and the world they live in their own habitat.<br /><br />The only thing one gets out of all these souls in the picture is the different stages of loneliness each one inhabits. A big city is not exactly the best place in which human relations find sincere fulfillment, as one discerns is the case with most of the people we encounter.<br /><br />The acting is good under Mr. Mattei's direction. Steve Buscemi, Rosario Dawson, Carol Kane, Michael Imperioli, Adrian Grenier, and the rest of the talented cast, make these characters come alive.<br /><br />We wish Mr. Mattei good luck and await anxiously for his next work.\n",
      "\n"
     ]
    }
   ],
   "source": [
    "# Read dataset\n",
    "data = pd.read_csv('C:\\\\Users\\\\Wellery\\\\Desktop\\\\IMDB_dataset.csv', engine='python', error_bad_lines=False) \n",
    "\n",
    "# Print first 5 rows\n",
    "for i in range(5):\n",
    "    print(f\"Review with {data.iloc[i]['sentiment'].upper()} sentiment:\\n\")\n",
    "    print(data.iloc[i]['review'] + \"\\n\")"
   ]
  },
  {
   "cell_type": "code",
   "execution_count": 3,
   "metadata": {},
   "outputs": [
    {
     "data": {
      "text/plain": [
       "<bound method DataFrame.info of                                                   review sentiment\n",
       "0      One of the other reviewers has mentioned that ...  positive\n",
       "1      A wonderful little production. <br /><br />The...  positive\n",
       "2      I thought this was a wonderful way to spend ti...  positive\n",
       "3      Basically there's a family where a little boy ...  negative\n",
       "4      Petter Mattei's \"Love in the Time of Money\" is...  positive\n",
       "...                                                  ...       ...\n",
       "49995  I thought this movie did a down right good job...  positive\n",
       "49996  Bad plot, bad dialogue, bad acting, idiotic di...  negative\n",
       "49997  I am a Catholic taught in parochial elementary...  negative\n",
       "49998  I'm going to have to disagree with the previou...  negative\n",
       "49999  No one expects the Star Trek movies to be high...  negative\n",
       "\n",
       "[50000 rows x 2 columns]>"
      ]
     },
     "execution_count": 3,
     "metadata": {},
     "output_type": "execute_result"
    }
   ],
   "source": [
    "data.info"
   ]
  },
  {
   "cell_type": "code",
   "execution_count": 4,
   "metadata": {},
   "outputs": [
    {
     "data": {
      "text/plain": [
       "<BarContainer object of 2 artists>"
      ]
     },
     "execution_count": 4,
     "metadata": {},
     "output_type": "execute_result"
    },
    {
     "data": {
      "image/png": "[encoded data removed]",
      "text/plain": [
       "<Figure size 432x288 with 1 Axes>"
      ]
     },
     "metadata": {
      "needs_background": "light"
     },
     "output_type": "display_data"
    }
   ],
   "source": [
    "# Analyse how many reviews of each sentiment\n",
    "fig = pl.figure()\n",
    "ax = fig.add_axes([0,0,1,1])\n",
    "x = ['positive', 'negative']\n",
    "y = data['sentiment'].value_counts()\n",
    "pl.ylabel('Amount of reviews')\n",
    "pl.xlabel('Review sentiments')\n",
    "ax.bar(x, y)"
   ]
  },
  {
   "cell_type": "code",
   "execution_count": 5,
   "metadata": {},
   "outputs": [
    {
     "data": {
      "text/plain": [
       "[<matplotlib.lines.Line2D at 0x1eb72afe910>]"
      ]
     },
     "execution_count": 5,
     "metadata": {},
     "output_type": "execute_result"
    },
    {
     "data": {
      "image/png": "[encoded data removed]",
      "text/plain": [
       "<Figure size 720x720 with 2 Axes>"
      ]
     },
     "metadata": {
      "needs_background": "light"
     },
     "output_type": "display_data"
    }
   ],
   "source": [
    "# Analyse uniformity of length of postive and negative reviews\n",
    "review_len = []\n",
    "for review in data['review']:\n",
    "    review_len.append(len(review))\n",
    "data['review_len'] = review_len\n",
    "\n",
    "positive_data = data[data['sentiment'] == 'positive'].sort_values(by=['review_len'])\n",
    "negative_data = data[data['sentiment'] == 'negative'].sort_values(by=['review_len'])\n",
    "\n",
    "x_neg = range(0,25000)\n",
    "y_neg = negative_data['review_len']\n",
    "\n",
    "x_pos = range(0,25000)\n",
    "y_pos = positive_data['review_len']\n",
    "\n",
    "fig, (ax1, ax2) = pl.subplots(2, 1, figsize=(10,10))\n",
    "ax1.set_title(\"Positive reviews\")\n",
    "ax1.plot(x_pos, y_pos, 'r.')\n",
    "ax2.set_title('Negative reviews')\n",
    "ax2.plot(x_neg, y_neg, 'b.')"
   ]
  },
  {
   "cell_type": "code",
   "execution_count": 19,
   "metadata": {},
   "outputs": [],
   "source": [
    "# Add a new column. positive = 1; negative = 0\n",
    "sentiment_bool = [0 if sentiment == 'negative' else 1 for sentiment in data['sentiment']]\n",
    "data['sentiment_bool'] = sentiment_bool"
   ]
  },
  {
   "cell_type": "code",
   "execution_count": 14,
   "metadata": {},
   "outputs": [],
   "source": [
    "# Cleaning of reviews\n",
    "\n",
    "# Need improvments: \n",
    "# 1. Delete the most common neutral words (update: added into stopwords but maybe there are others)\n",
    "#    Update: tried and it doesnt affect on accurancy\n",
    "# 2. Check spelling (tried but make the process in three times slower)\n",
    "\n",
    "stop_words = set(stopwords.words('english'))\n",
    "tokenizer = WhitespaceTokenizer()\n",
    "lemmatizer = WordNetLemmatizer()\n",
    "\n",
    "filtered_review = []\n",
    "\n",
    "def get_wordnet_pos(word):\n",
    "    \"\"\"Get wordnet pos (part of speech) tags.\"\"\"\n",
    "    \n",
    "    # define extensive pos tag of the word (f.i. NNP - proper name)\n",
    "    word_and_tag = pos_tag([word])[0]\n",
    "    \n",
    "    # get only tag (without word)\n",
    "    tag = word_and_tag[1]\n",
    "    \n",
    "    # get only a short information (first letter) about part of speech (adj, noun, verb, adv)\n",
    "    short_tag = tag[0]\n",
    "    \n",
    "    tag_dict = {\"J\": wordnet.ADJ,\n",
    "                \"N\": wordnet.NOUN,\n",
    "                \"V\": wordnet.VERB,\n",
    "                \"R\": wordnet.ADV}\n",
    "    return tag_dict.get(tag, wordnet.NOUN)\n",
    "    \n",
    "    \n",
    "for review in data['review']:\n",
    "    # remove html tags and \n",
    "    review = re.sub(\"<.*?>\", \" \", review) \n",
    "    \n",
    "    # remove punctuation and digits\n",
    "    review = review.translate(str.maketrans(string.punctuation + string.digits, 42*' '))\n",
    "    \n",
    "    # tokenize via wordpsace and tabulations symbols + spelling correction\n",
    "    review_tokens = tokenizer.tokenize(review)\n",
    "    lower_review_tokens = [token.lower() for token in review_tokens]\n",
    "    review_tokens = [token for token in lower_review_tokens if token not in stop_words]\n",
    "    \n",
    "    # lemmatize words (remove some suffixex, endings, plural forms,...)\n",
    "    review_lemmas = [lemmatizer.lemmatize(token, get_wordnet_pos(token)) for token in review_tokens]\n",
    "    \n",
    "    filtered_review.append(review_lemmas)\n",
    "    \n",
    "\n",
    "data['filtered_review'] = filtered_review"
   ]
  },
  {
   "cell_type": "code",
   "execution_count": 18,
   "metadata": {},
   "outputs": [],
   "source": [
    "# Vectorizing of reviews\n",
    "\n",
    "# max amount of words in vocabulary\n",
    "max_features = 5000\n",
    " \n",
    "# ignore words with frequency higher than this threhold (proportion)\n",
    "max_df = 0.8\n",
    "\n",
    "vectorizer = TfidfVectorizer(max_features=max_features, max_df=max_df)\n",
    "vocabulary = vectorizer.fit_transform([' '.join(review) for review in data['filtered_review']])\n",
    "\n",
    "# Vectorized bool data\n",
    "reviews_bool = vocabulary.toarray()"
   ]
  },
  {
   "cell_type": "code",
   "execution_count": 9,
   "metadata": {},
   "outputs": [],
   "source": [
    "# Save vectorizer into the file\n",
    "pickle.dump(vectorizer, open(\"C:\\\\Users\\\\Wellery\\\\Desktop\\\\vectorizer.pickle\", \"wb\"))"
   ]
  },
  {
   "cell_type": "code",
   "execution_count": 20,
   "metadata": {},
   "outputs": [],
   "source": [
    "# generate training and test data. Part of test data is 30% of the array\n",
    "x_train, x_test, y_train, y_test = train_test_split(reviews_bool, data['sentiment_bool'], test_size=0.3, random_state=10, shuffle=True)"
   ]
  },
  {
   "cell_type": "code",
   "execution_count": 22,
   "metadata": {},
   "outputs": [
    {
     "name": "stdout",
     "output_type": "stream",
     "text": [
      "0.8838\n"
     ]
    }
   ],
   "source": [
    "# train the model\n",
    "text_classifier = SGDClassifier()\n",
    "text_classifier.fit(x_train, y_train)\n",
    "predictions = text_classifier.predict(x_test)\n",
    "\n",
    "# results, check on test data\n",
    "print(accuracy_score(y_test, predictions))"
   ]
  },
  {
   "cell_type": "code",
   "execution_count": 24,
   "metadata": {},
   "outputs": [
    {
     "name": "stdout",
     "output_type": "stream",
     "text": [
      "0.9085428571428571\n"
     ]
    }
   ],
   "source": [
    "# test the model on data for tranining\n",
    "predictions_train = text_classifier.predict(x_train)\n",
    "\n",
    "# results\n",
    "print(accuracy_score(y_train, predictions_train))"
   ]
  },
  {
   "cell_type": "code",
   "execution_count": null,
   "metadata": {},
   "outputs": [],
   "source": [
    "# load the model from the file (example)\n",
    "loaded_model = pickle.load(open(filename, 'rb'))\n",
    "result = loaded_model.score(X_test, Y_test)"
   ]
  }
 ],
 "metadata": {
  "kernelspec": {
   "display_name": "Python 3",
   "language": "python",
   "name": "python3"
  },
  "language_info": {
   "codemirror_mode": {
    "name": "ipython",
    "version": 3
   },
   "file_extension": ".py",
   "mimetype": "text/x-python",
   "name": "python",
   "nbconvert_exporter": "python",
   "pygments_lexer": "ipython3",
   "version": "3.8.5"
  }
 },
 "nbformat": 4,
 "nbformat_minor": 2
}
